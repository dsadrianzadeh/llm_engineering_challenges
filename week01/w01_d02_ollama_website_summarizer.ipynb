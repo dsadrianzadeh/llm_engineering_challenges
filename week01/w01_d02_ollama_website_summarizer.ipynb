{
 "cells": [
  {
   "cell_type": "markdown",
   "id": "d024d667",
   "metadata": {},
   "source": [
    "# Week 1 - Day 2 - Challenge"
   ]
  },
  {
   "cell_type": "markdown",
   "id": "35bf2b41",
   "metadata": {},
   "source": [
    "This is an implementation of an LLM-enabled website summarizer that uses `llama3.2` to summarize a given website. Here, `llama3.2` is called via three approaches:\n",
    "\n",
    "1.    local call\n",
    "2.    `ollama` Python package\n",
    "3.    `OpenAI` Python library"
   ]
  },
  {
   "cell_type": "markdown",
   "id": "55227d92",
   "metadata": {},
   "source": [
    "## 0. Import Libraries"
   ]
  },
  {
   "cell_type": "code",
   "execution_count": null,
   "id": "57f1b988",
   "metadata": {},
   "outputs": [],
   "source": [
    "import ollama\n",
    "import requests\n",
    "\n",
    "from bs4 import BeautifulSoup\n",
    "from IPython.display import Markdown, display\n",
    "from openai import OpenAI"
   ]
  },
  {
   "cell_type": "markdown",
   "id": "5014f62d",
   "metadata": {},
   "source": [
    "## 1. Load Environment Variables"
   ]
  },
  {
   "cell_type": "code",
   "execution_count": null,
   "id": "c7794263",
   "metadata": {},
   "outputs": [],
   "source": [
    "WEBSITE_URL = \"https://arxiv.org/\"\n",
    "llama_methods = [\"local-call\", \"python-package\", \"openai-python-library\"]"
   ]
  },
  {
   "cell_type": "markdown",
   "id": "e91aceb0",
   "metadata": {},
   "source": [
    "## 2. Create a Class to Represent a Webpage"
   ]
  },
  {
   "cell_type": "code",
   "execution_count": null,
   "id": "e57072ee",
   "metadata": {},
   "outputs": [],
   "source": [
    "class Website:\n",
    "    \"\"\" \"\"\"\n",
    "    def __init__(\n",
    "        self,\n",
    "        url: str\n",
    "        ) -> None:\n",
    "        headers = {\n",
    "            \"User-Agent\": \"Mozilla/5.0 (Windows NT 10.0; Win64; x64) \" + \\\n",
    "            \"AppleWebKit/537.36 (KHTML, like Gecko) Chrome/117.0.0.0 \" + \\\n",
    "            \"Safari/537.36\"\n",
    "            }\n",
    "        self.url = url\n",
    "        response = requests.get(\n",
    "            url=url,\n",
    "            headers=headers\n",
    "            )\n",
    "        self.body = response.content\n",
    "        soup = BeautifulSoup(\n",
    "            markup=self.body,\n",
    "            features=\"html.parser\"\n",
    "            )\n",
    "        self.title = soup.title.string if soup.title else \"No title found!!!\"\n",
    "        if soup.body:\n",
    "            for irrelevant in soup.body([\"script\", \"style\", \"img\", \"input\"]):\n",
    "                irrelevant.decompose()\n",
    "            self.text = soup.body.get_text(\n",
    "                separator=\"\\n\",\n",
    "                strip=True\n",
    "                )\n",
    "        else:\n",
    "            self.text = \"\"\n",
    "        links = [link.get(\"href\") for link in soup.find_all(\"a\")]\n",
    "        self.links = [link for link in links if link]\n",
    "\n",
    "    def get_contents(self) -> str:\n",
    "        return f\"Webpage Title:\\n{self.title}\\n\\nWebpage Contents:\\n{self.text}\\n\\n\""
   ]
  },
  {
   "cell_type": "code",
   "execution_count": null,
   "id": "ae2df6c6",
   "metadata": {},
   "outputs": [],
   "source": [
    "website = Website(url=WEBSITE_URL)"
   ]
  },
  {
   "cell_type": "markdown",
   "id": "107d1435",
   "metadata": {},
   "source": [
    "## 3. Create Prompts"
   ]
  },
  {
   "cell_type": "code",
   "execution_count": null,
   "id": "190f870f",
   "metadata": {},
   "outputs": [],
   "source": [
    "system_prompt = \"\"\"You are an assistant that analyzes the contents of a \\\n",
    "website and provides a short summary while ignoring text that might be \\\n",
    "related to navigation. Your response must be in markdown.\"\"\"\n",
    "\n",
    "user_prompt = \"\"\n",
    "user_prompt += f\"You are looking at a website titled '{website.title}'! \"\n",
    "user_prompt += \"Based on the contents of the website, please provide a short \"\n",
    "user_prompt += \"summary of the website in markdown. If the website includes \"\n",
    "user_prompt += \"news or announcements, summarize them, too. The contents of \"\n",
    "user_prompt += \"this website are as follows:\\n\\n\"\n",
    "user_prompt += website.text"
   ]
  },
  {
   "cell_type": "markdown",
   "id": "35ebb861",
   "metadata": {},
   "source": [
    "## 4. Call \"llama3.2\""
   ]
  },
  {
   "cell_type": "code",
   "execution_count": null,
   "id": "b0a6676e-fb43-4725-9389-2acd74c13c4e",
   "metadata": {},
   "outputs": [],
   "source": [
    "def ollama_respond(\n",
    "    method: str,\n",
    "    system_prompt: str,\n",
    "    user_prompt: str\n",
    "    ) -> None:\n",
    "    messages = [\n",
    "        {\"role\": \"system\", \"content\": system_prompt},\n",
    "        {\"role\": \"user\", \"content\": user_prompt}\n",
    "        ]\n",
    "\n",
    "    if method == \"local-call\":\n",
    "        response = requests.post(\n",
    "            url=\"http://localhost:11434/api/chat\",\n",
    "            json={\n",
    "                \"model\": \"llama3.2\",\n",
    "                \"messages\": messages,\n",
    "                \"stream\": False\n",
    "                },\n",
    "            headers={\"Content-Type\": \"application/json\"}\n",
    "            )\n",
    "        display(Markdown(response.json()[\"message\"][\"content\"]))\n",
    "        with open(file=\"w01_d02_ollama_website_summarizer_output.txt\", mode=\"w\", encoding=\"utf-8\") as f:\n",
    "            f.write(response.json()[\"message\"][\"content\"])\n",
    "    elif method == \"python-package\":\n",
    "        response = ollama.chat(\n",
    "            model=\"llama3.2\",\n",
    "            messages=messages\n",
    "            )\n",
    "        display(Markdown(response[\"message\"][\"content\"]))\n",
    "        with open(file=\"w01_d02_ollama_website_summarizer_output.txt\", mode=\"w\", encoding=\"utf-8\") as f:\n",
    "            f.write(response[\"message\"][\"content\"])\n",
    "    elif method == \"openai-python-library\":\n",
    "        api = OpenAI(\n",
    "            base_url=\"http://localhost:11434/v1\",\n",
    "            api_key=\"ollama\"\n",
    "            )\n",
    "        response = api.chat.completions.create(\n",
    "            model=\"llama3.2\",\n",
    "            messages=messages\n",
    "            )\n",
    "        display(Markdown(response.choices[0].message.content))\n",
    "        with open(file=\"w01_d02_ollama_website_summarizer_output.txt\", mode=\"w\", encoding=\"utf-8\") as f:\n",
    "            f.write(response.choices[0].message.content)"
   ]
  },
  {
   "cell_type": "code",
   "execution_count": null,
   "id": "1b1851ed",
   "metadata": {},
   "outputs": [],
   "source": [
    "ollama_respond(\n",
    "    method=llama_methods[2],\n",
    "    system_prompt=system_prompt,\n",
    "    user_prompt=user_prompt\n",
    "    )"
   ]
  },
  {
   "cell_type": "markdown",
   "id": "9f2fa272",
   "metadata": {},
   "source": [
    "## 5. Final Outputs"
   ]
  },
  {
   "cell_type": "markdown",
   "id": "e9e307e2",
   "metadata": {},
   "source": [
    "### 5.1. \"llama3.2\" via Local Call"
   ]
  },
  {
   "cell_type": "markdown",
   "id": "5c1a5e03",
   "metadata": {},
   "source": [
    "# arXiv.org e-Print Archive Summary\n",
    "\n",
    "### Overview\n",
    "The arXiv.org e-Print archive is a free distribution service and open-access archive for nearly 2.4 million scholarly articles in various fields, including physics, mathematics, computer science, and economics.\n",
    "\n",
    "### Subjects\n",
    "ArXiv is divided into several subjects, including:\n",
    "\n",
    "* Physics (astro-ph, cond-mat, gr-qc, hep-ex, hep-lat, hep-ph, hep-th, math-ph)\n",
    "* Mathematics (math)\n",
    "* Computer Science (CoRR)\n",
    "* Quantitative Biology (q-bio)\n",
    "* Quantitative Finance (q-fin)\n",
    "* Statistics (stat)\n",
    "* Electrical Engineering and Systems Science (eess)\n",
    "* Economics (econ)\n",
    "\n",
    "### Features\n",
    "ArXiv allows users to:\n",
    "* Search articles by title, author, or subject\n",
    "* Browse articles by subject\n",
    "* Donate to support the organization\n",
    "* Login and manage account settings\n",
    "\n",
    "### Announcements\n",
    "arXiv has received support from the Simons Foundation, member institutions, and contributors. The organization also offers a donation feature for those who wish to contribute to its mission.\n",
    "\n",
    "Note: Navigation menu and other non-relevant content have been ignored in this summary."
   ]
  },
  {
   "cell_type": "markdown",
   "id": "2d0ca45a",
   "metadata": {},
   "source": [
    "### 5.2. \"llama3.2\" via `ollama` Python Package"
   ]
  },
  {
   "cell_type": "markdown",
   "id": "acc9fb32",
   "metadata": {},
   "source": [
    "**Summary of arXiv.org e-Print Archive**\n",
    "=====================================\n",
    "\n",
    "* **Description**: A free distribution service and open-access archive for nearly 2.4 million scholarly articles in the fields of physics, mathematics, computer science, quantitative biology, quantitative finance, statistics, electrical engineering and systems science, and economics.\n",
    "* **Subjects**: Articles are categorized into several subjects, including Astrophysics, Condensed Matter Physics, General Relativity and Quantum Cosmology, High Energy Physics, Mathematics, Nonlinear Sciences, Nuclear Experiment, Nuclear Theory, Physics, and more.\n",
    "* **News and Announcements**:\n",
    "\t+ arXiv is supported by the Simons Foundation, member institutions, and contributors.\n",
    "\t+ The service is available for free to users worldwide.\n",
    "\n",
    "Note: I ignored the navigation menu and focus on summarizing the main content of the website."
   ]
  },
  {
   "cell_type": "markdown",
   "id": "a739d848",
   "metadata": {},
   "source": [
    "### 5.3. \"llama3.2\" via `OpenAI` Python Library"
   ]
  },
  {
   "cell_type": "markdown",
   "id": "0fd49db3",
   "metadata": {},
   "source": [
    "### Summary of arXiv.org e-Print Archive\n",
    "\n",
    "**Overview**\n",
    "---------------\n",
    "\n",
    "The arXiv.org e-Print archive is a free, open-access distribution service and an online archive for peer-reviewed scholarly articles in several fields, including physics, mathematics, computer science, biology, finance, statistics, electrical engineering, and economics.\n",
    "\n",
    "### Fields of Study\n",
    "\n",
    "The website provides categorized lists of publications by subject:\n",
    "\n",
    "* **Physics**: astrophysics, condensed matter, general relativity, high energy physics, etc.\n",
    "* **Mathematics**: algebraic geometry, dynamical systems, group theory, number theory, etc.\n",
    "* **Computer Science**: artificial intelligence, machine learning, programming languages, software engineering, etc.\n",
    "* **Quantitative Biology**: biomolecules, genomics, molecular networks, populations and evolution, etc.\n",
    "* **Quantitative Finance**: computational finance, economics, mathematical finance, portfolio management, etc.\n",
    "* **Statistics**: applications, computation, methodology, other statistics, statistical theory, etc.\n",
    "* **Electrical Engineering and Systems Science**: audio and speech processing, image and video processing, signal processing, systems and control, etc.\n",
    "* **Economics**: econometrics, general economics, theoretical economics, etc.\n",
    "\n",
    "### Features\n",
    "\n",
    "* Search functionality for subjects\n",
    "* Browse functionality by categories\n",
    "* Advanced search options\n",
    "* Support from the Simons Foundation, member institutions, and contributors\n",
    "\n",
    "**Updates**\n",
    "---------\n",
    "\n",
    "Note: The website does not provide explicit \"news\" or \"announcements.\" However, it does offer a notification service that sends updates via email or Slack for arXiv Operational Status.\n",
    "\n",
    "### External Links\n",
    "\n",
    "* arXiv Operational Status notifications via email or Slack"
   ]
  }
 ],
 "metadata": {
  "kernelspec": {
   "display_name": "ml-venv",
   "language": "python",
   "name": "python3"
  },
  "language_info": {
   "codemirror_mode": {
    "name": "ipython",
    "version": 3
   },
   "file_extension": ".py",
   "mimetype": "text/x-python",
   "name": "python",
   "nbconvert_exporter": "python",
   "pygments_lexer": "ipython3",
   "version": "3.12.9"
  }
 },
 "nbformat": 4,
 "nbformat_minor": 5
}
