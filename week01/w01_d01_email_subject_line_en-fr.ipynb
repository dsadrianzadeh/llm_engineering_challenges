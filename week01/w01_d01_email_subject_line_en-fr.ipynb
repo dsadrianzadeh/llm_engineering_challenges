{
 "cells": [
  {
   "cell_type": "markdown",
   "id": "38b4ca81",
   "metadata": {},
   "source": [
    "# Week 1 - Day 1 - Challenge"
   ]
  },
  {
   "cell_type": "markdown",
   "id": "4ff3058f",
   "metadata": {},
   "source": [
    "This is an implementation of an LLM-enabled email subject line suggester that takes the content of an email and suggests two snarky, two funny, and two formal short subject lines in English and French."
   ]
  },
  {
   "cell_type": "markdown",
   "id": "6301e304",
   "metadata": {},
   "source": [
    "## 0. Import Libraries"
   ]
  },
  {
   "cell_type": "code",
   "execution_count": null,
   "id": "722d2b51",
   "metadata": {},
   "outputs": [],
   "source": [
    "import os\n",
    "\n",
    "from dotenv import load_dotenv\n",
    "from IPython.display import Markdown, display\n",
    "from openai import OpenAI"
   ]
  },
  {
   "cell_type": "markdown",
   "id": "025cf875",
   "metadata": {},
   "source": [
    "## 1. Load Environment Variables and Constants"
   ]
  },
  {
   "cell_type": "code",
   "execution_count": null,
   "id": "cc3a07b1",
   "metadata": {},
   "outputs": [],
   "source": [
    "load_dotenv(override=True)\n",
    "api_key = os.getenv(\"OPENAI_API_KEY\")\n",
    "\n",
    "if not api_key:\n",
    "    print(\"No API key was found!\")\n",
    "elif not api_key.startswith(\"sk-proj-\"):\n",
    "    print(\n",
    "        \"An API key was found, but it does not start with 'sk-proj-'! \" + \\\n",
    "        \"Please ensure you are using the right key.\"\n",
    "        )\n",
    "elif api_key.strip() != api_key:\n",
    "    print(\n",
    "        \"An API key was found, but it looks like it might have space \" + \\\n",
    "        \"or tab characters at the start or end! Please remove them.\"\n",
    "        )\n",
    "else:\n",
    "    print(\"API key found and looks good so far!\")"
   ]
  },
  {
   "cell_type": "markdown",
   "id": "c3f928ac",
   "metadata": {},
   "source": [
    "## 2. Create Prompts"
   ]
  },
  {
   "cell_type": "code",
   "execution_count": null,
   "id": "69a6b6dd",
   "metadata": {},
   "outputs": [],
   "source": [
    "system_prompt = \"\"\"You are an assistant that analyzes the contents of email \\\n",
    "texts and suggests short subject lines for the email based on the requested \\\n",
    "tone and language. Your response must be in markdown.\"\"\"\n",
    "\n",
    "user_prompt = \"\"\"The text below is an email text for which you are required \\\n",
    "to provide subject lines. Please provide two snarky, two funny, and two \\\n",
    "formal short subject lines for the email text. Each of the six subject lines \\\n",
    "should be presented in both English and French languages, making a total of \\\n",
    "12 subject lines. Please provide your answer in markdown. The email text is \\\n",
    "as follows:\n",
    "\n",
    "    \n",
    "Welcome to arXiv!\n",
    "\n",
    "Thank you for creating an account and joining the arXiv community. We look \\\n",
    "forward to receiving your contribution.\n",
    "\n",
    "Help Pages\n",
    "An overview on how to navigate and use arXiv can be found here:\n",
    "https://arxiv.org/help\n",
    "https://arxiv.org/about\n",
    "\n",
    "If you would like to know more about the submission process, please go here:\n",
    "https://arxiv.org/help/submit\n",
    "\n",
    "Before Submitting to arXiv\n",
    "The arXiv.org e-print archive is fully automated and processes nearly 1,000 \\\n",
    "new submissions per day. To help us keep the process running smoothly and \\\n",
    "efficiently please check your submission carefully for mistakes, typos and \\\n",
    "layout issues. Once you have submitted your work please check your account \\\n",
    "frequently for verification messages and other communication from arXiv.\n",
    "\n",
    "Contacting arXiv\n",
    "We have provided extensive help pages to guide you through the process and to \\\n",
    "answer the most common questions. If you have problems with the submission \\\n",
    "process please contact us here:\n",
    "https://arxiv.org/help/contact\n",
    "We aim to assist submitters within one business day, but during times of high \\\n",
    "volume or maintenance work we may be slightly delayed in our response.\n",
    "\n",
    "Thank you for your cooperation.\"\"\""
   ]
  },
  {
   "cell_type": "markdown",
   "id": "5e6f5e8e",
   "metadata": {},
   "source": [
    "## 3. Call \"gpt-4o-mini\""
   ]
  },
  {
   "cell_type": "code",
   "execution_count": null,
   "id": "d25b0aef-3e5e-4026-90ee-2b373bf262b7",
   "metadata": {},
   "outputs": [],
   "source": [
    "def gpt_respond(\n",
    "    system_prompt: str,\n",
    "    user_prompt: str\n",
    "    ) -> None:\n",
    "    api = OpenAI()\n",
    "    response = api.chat.completions.create(\n",
    "        model=\"gpt-4o-mini\",\n",
    "        messages=[\n",
    "            {\"role\": \"system\", \"content\": system_prompt},\n",
    "            {\"role\": \"user\", \"content\": user_prompt}\n",
    "        ],\n",
    "        stream=False\n",
    "        )\n",
    "    display(Markdown(response.choices[0].message.content))\n",
    "    with open(file=\"w01_d01_email_subject_line_en-fr_output.txt\", mode=\"w\", encoding=\"utf-8\") as f:\n",
    "        f.write(response.choices[0].message.content)"
   ]
  },
  {
   "cell_type": "code",
   "execution_count": null,
   "id": "b0a6676e-fb43-4725-9389-2acd74c13c4e",
   "metadata": {},
   "outputs": [],
   "source": [
    "gpt_respond(\n",
    "    system_prompt=system_prompt,\n",
    "    user_prompt=user_prompt\n",
    "    )"
   ]
  },
  {
   "cell_type": "markdown",
   "id": "18062f9a",
   "metadata": {},
   "source": [
    "## 4. Final Output"
   ]
  },
  {
   "cell_type": "markdown",
   "id": "e1fadbc9",
   "metadata": {},
   "source": [
    "### Snarky Subject Lines\n",
    "\n",
    "1. **English:** Welcome to arXiv – Try Not to Mess It Up!  \n",
    "   **French:** Bienvenue sur arXiv – Essayez de ne pas tout gâcher !\n",
    "\n",
    "2. **English:** Congrats on Joining arXiv – Brace Yourself for Typos!  \n",
    "   **French:** Félicitations pour avoir rejoint arXiv – Préparez-vous aux fautes de frappe !\n",
    "\n",
    "### Funny Subject Lines\n",
    "\n",
    "1. **English:** Welcome to arXiv – Where Every Scroll Counts!  \n",
    "   **French:** Bienvenue sur arXiv – Ici, chaque défilement compte !\n",
    "\n",
    "2. **English:** You’re Officially an arXivian – Good Luck Surviving!  \n",
    "   **French:** Vous êtes officiellement un arXivien – Bonne chance pour survivre !\n",
    "\n",
    "### Formal Subject Lines\n",
    "\n",
    "1. **English:** Welcome to the arXiv Community – Important Information Inside  \n",
    "   **French:** Bienvenue dans la communauté arXiv – Informations importantes à l'intérieur\n",
    "\n",
    "2. **English:** Your arXiv Account is Activated – Next Steps for Submission  \n",
    "   **French:** Votre compte arXiv est activé – Prochaines étapes pour la soumission"
   ]
  }
 ],
 "metadata": {
  "kernelspec": {
   "display_name": "ml-venv",
   "language": "python",
   "name": "python3"
  },
  "language_info": {
   "codemirror_mode": {
    "name": "ipython",
    "version": 3
   },
   "file_extension": ".py",
   "mimetype": "text/x-python",
   "name": "python",
   "nbconvert_exporter": "python",
   "pygments_lexer": "ipython3",
   "version": "3.12.9"
  }
 },
 "nbformat": 4,
 "nbformat_minor": 5
}
