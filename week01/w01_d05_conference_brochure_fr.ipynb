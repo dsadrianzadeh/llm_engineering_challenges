{
 "cells": [
  {
   "cell_type": "markdown",
   "id": "4611978c",
   "metadata": {},
   "source": [
    "# Week 1 - Day 5 - Challenge"
   ]
  },
  {
   "cell_type": "markdown",
   "id": "c9bad68d",
   "metadata": {},
   "source": [
    "This is an implementation of three calls to GPT-4o-mini to create a brochure from a website and translate the brochure into French. The calls do the following:\n",
    "\n",
    "*    The first call gets the related links from a conference website through multi-shot prompting.\n",
    "*    The second call creates a brochure from the conference website using the related links from the first call and the information on the website.\n",
    "*    The third call translates the brochure created by the second call from English to French."
   ]
  },
  {
   "cell_type": "markdown",
   "id": "747ac2ab",
   "metadata": {},
   "source": [
    "## 0. Import Libraries"
   ]
  },
  {
   "cell_type": "code",
   "execution_count": null,
   "id": "d25b0aef-3e5e-4026-90ee-2b373bf262b7",
   "metadata": {},
   "outputs": [],
   "source": [
    "import json\n",
    "import os\n",
    "import requests\n",
    "\n",
    "from bs4 import BeautifulSoup\n",
    "from dotenv import load_dotenv\n",
    "from IPython.display import Markdown, display, update_display\n",
    "from openai import OpenAI\n",
    "from typing import Any, Dict, List"
   ]
  },
  {
   "cell_type": "markdown",
   "id": "610b947c",
   "metadata": {},
   "source": [
    "## 1. Load Environment Variables and Constants"
   ]
  },
  {
   "cell_type": "code",
   "execution_count": null,
   "id": "b0a6676e-fb43-4725-9389-2acd74c13c4e",
   "metadata": {},
   "outputs": [],
   "source": [
    "load_dotenv(override=True)\n",
    "api = OpenAI()\n",
    "CONFERENCE_NAME = \"CCECE2025\"\n",
    "WEBSITE_URL = \"https://ccece2025.ieee.ca/\"\n",
    "api_key = os.getenv(\"OPENAI_API_KEY\")\n",
    "\n",
    "if not api_key:\n",
    "    print(\"No API key was found!\")\n",
    "elif not api_key.startswith(\"sk-proj-\"):\n",
    "    print(\n",
    "        \"An API key was found, but it does not start with 'sk-proj-'! \" + \\\n",
    "        \"Please ensure you are using the right key.\"\n",
    "        )\n",
    "elif api_key.strip() != api_key:\n",
    "    print(\n",
    "        \"An API key was found, but it looks like it might have space \" + \\\n",
    "        \"or tab characters at the start or end! Please remove them.\"\n",
    "        )\n",
    "else:\n",
    "    print(\"API key found and looks good so far!\")"
   ]
  },
  {
   "cell_type": "markdown",
   "id": "0055eb43",
   "metadata": {},
   "source": [
    "## 2. Create a Class to Represent a Webpage"
   ]
  },
  {
   "cell_type": "code",
   "execution_count": null,
   "id": "7f00f4a7",
   "metadata": {},
   "outputs": [],
   "source": [
    "class Website:\n",
    "    \"\"\" \"\"\"\n",
    "    def __init__(\n",
    "        self,\n",
    "        url: str\n",
    "        ) -> None:\n",
    "        headers = {\n",
    "            \"User-Agent\": \"Mozilla/5.0 (Windows NT 10.0; Win64; x64) \" + \\\n",
    "            \"AppleWebKit/537.36 (KHTML, like Gecko) Chrome/117.0.0.0 \" + \\\n",
    "            \"Safari/537.36\"\n",
    "            }\n",
    "        self.url = url\n",
    "        response = requests.get(\n",
    "            url=url,\n",
    "            headers=headers\n",
    "            )\n",
    "        self.body = response.content\n",
    "        soup = BeautifulSoup(\n",
    "            markup=self.body,\n",
    "            features=\"html.parser\"\n",
    "            )\n",
    "        self.title = soup.title.string if soup.title else \"No title found!!!\"\n",
    "        if soup.body:\n",
    "            for irrelevant in soup.body([\"script\", \"style\", \"img\", \"input\"]):\n",
    "                irrelevant.decompose()\n",
    "            self.text = soup.body.get_text(\n",
    "                separator=\"\\n\",\n",
    "                strip=True\n",
    "                )\n",
    "        else:\n",
    "            self.text = \"\"\n",
    "        links = [link.get(\"href\") for link in soup.find_all(\"a\")]\n",
    "        self.links = [link for link in links if link]\n",
    "\n",
    "    def get_contents(self) -> str:\n",
    "        return f\"Webpage Title:\\n{self.title}\\n\\nWebpage Contents:\\n{self.text}\\n\\n\""
   ]
  },
  {
   "cell_type": "code",
   "execution_count": null,
   "id": "de1d3074",
   "metadata": {},
   "outputs": [],
   "source": [
    "website = Website(url=WEBSITE_URL)"
   ]
  },
  {
   "cell_type": "markdown",
   "id": "570a4154",
   "metadata": {},
   "source": [
    "## 3. First Call to \"gpt-4o-mini\": Read Links on Webpage and Respond in Structured JSON"
   ]
  },
  {
   "cell_type": "markdown",
   "id": "ddec211f",
   "metadata": {},
   "source": [
    "### 3.1. Create Prompts for First Call (Multi-Shot Prompting)"
   ]
  },
  {
   "cell_type": "code",
   "execution_count": null,
   "id": "23fb939e",
   "metadata": {},
   "outputs": [],
   "source": [
    "first_call_system_prompt = \"\"\"You are provided with a list of links found on \\\n",
    "a conference webpage. Your task is to decide which of the links would be most \\\n",
    "relevant to include in a brochure about the conference, such as links to \\\n",
    "committee page, authors page, or venue & travel page. You should respond in \\\n",
    "JSON format. Below are some examples.\n",
    "\n",
    "Example 1:\n",
    "Input:\n",
    "[\n",
    "    \"https://example.com/about\",\n",
    "    \"https://example.com/contact\",\n",
    "    \"https://example.com/blog\",\n",
    "    \"https://example.com/careers\"\n",
    "]\n",
    "Output:\n",
    "{\n",
    "    \"links\": [\n",
    "        {\"type\": \"about page\", \"url\": \"https://example.com/about\"},\n",
    "        {\"type\": \"careers page\", \"url\": \"https://example.com/careers\"}\n",
    "    ]\n",
    "}\n",
    "\n",
    "Example 2:\n",
    "Input:\n",
    "[\n",
    "    \"https://companysite.com/home\",\n",
    "    \"https://companysite.com/jobs\",\n",
    "    \"https://companysite.com/team\",\n",
    "    \"https://companysite.com/privacy-policy\"\n",
    "]\n",
    "Output:\n",
    "{\n",
    "    \"links\": [\n",
    "        {\"type\": \"careers page\", \"url\": \"https://companysite.com/jobs\"},\n",
    "        {\"type\": \"about page\", \"url\": \"https://companysite.com/team\"}\n",
    "    ]\n",
    "}\n",
    "\n",
    "Example 3:\n",
    "Input:\n",
    "[\n",
    "    \"https://businesscorp.com/services\",\n",
    "    \"https://businesscorp.com/company\",\n",
    "    \"https://businesscorp.com/terms\",\n",
    "    \"https://businesscorp.com/contact\"\n",
    "]\n",
    "Output:\n",
    "{\n",
    "    \"links\": [\n",
    "        {\"type\": \"about page\", \"url\": \"https://businesscorp.com/company\"}\n",
    "    ]\n",
    "}\"\"\""
   ]
  },
  {
   "cell_type": "code",
   "execution_count": null,
   "id": "df197c6e",
   "metadata": {},
   "outputs": [],
   "source": [
    "def get_links_user_prompt(website) -> str:\n",
    "    user_prompt = \"\"\n",
    "    user_prompt += \"Below is the list of links on the website of \"\n",
    "    user_prompt += f\"[{website.url}]. Please decide which of the links are \"\n",
    "    user_prompt += \"relevant web links for a brochure about the conference. \"\n",
    "    user_prompt += \"You should respond with the full https URL in JSON format \"\n",
    "    user_prompt += \". Do not include Terms of Service, Privacy, and email \"\n",
    "    user_prompt += \"links.\"\n",
    "    user_prompt += \"\\n\\nLinks (some might be relevant links):\\n\"\n",
    "    user_prompt += \"\\n\".join(website.links)\n",
    "    return user_prompt"
   ]
  },
  {
   "cell_type": "code",
   "execution_count": null,
   "id": "ae50a274",
   "metadata": {},
   "outputs": [],
   "source": [
    "first_call_user_prompt = get_links_user_prompt(website=website)"
   ]
  },
  {
   "cell_type": "markdown",
   "id": "ab8508cc",
   "metadata": {},
   "source": [
    "### 3.2. Call \"gpt-4o-mini\" to Get Links"
   ]
  },
  {
   "cell_type": "code",
   "execution_count": null,
   "id": "17c49b1e",
   "metadata": {},
   "outputs": [],
   "source": [
    "def llm_get_links(\n",
    "    api: OpenAI,\n",
    "    system_prompt: str,\n",
    "    user_prompt: str\n",
    "    ) -> Dict[str, List[Dict[str, str]]]:\n",
    "    response = api.chat.completions.create(\n",
    "        model=\"gpt-4o-mini\",\n",
    "        messages=[\n",
    "            {\"role\": \"system\", \"content\": system_prompt},\n",
    "            {\"role\": \"user\", \"content\": user_prompt}\n",
    "        ],\n",
    "        response_format={\"type\": \"json_object\"}\n",
    "        )\n",
    "    return json.loads(response.choices[0].message.content)"
   ]
  },
  {
   "cell_type": "code",
   "execution_count": null,
   "id": "8ff6a4ef",
   "metadata": {},
   "outputs": [],
   "source": [
    "llm_links = llm_get_links(\n",
    "    api=api,\n",
    "    system_prompt=first_call_system_prompt,\n",
    "    user_prompt=first_call_user_prompt\n",
    "    )"
   ]
  },
  {
   "cell_type": "markdown",
   "id": "dba8833f",
   "metadata": {},
   "source": [
    "## 4. Second Call to \"gpt-4o-mini\": Make Brochure"
   ]
  },
  {
   "cell_type": "markdown",
   "id": "2e3bf2ce",
   "metadata": {},
   "source": [
    "### 4.1. Create Prompts for Second Call"
   ]
  },
  {
   "cell_type": "code",
   "execution_count": null,
   "id": "c67af708",
   "metadata": {},
   "outputs": [],
   "source": [
    "second_call_system_prompt = \"\"\n",
    "second_call_system_prompt += \"You are an assistant that analyzes the contents \"\n",
    "second_call_system_prompt += \"of several relevant pages from a conference \"\n",
    "second_call_system_prompt += \"website and creates a short brochure about the \"\n",
    "second_call_system_prompt += \"conference for academic researchers in formal \"\n",
    "second_call_system_prompt += \"tone. Respond in markdown. Include details of \"\n",
    "second_call_system_prompt += \"conference dates, call for papers, and \"\n",
    "second_call_system_prompt += \"other opportunities if you have the information.\""
   ]
  },
  {
   "cell_type": "code",
   "execution_count": null,
   "id": "7cc1a263",
   "metadata": {},
   "outputs": [],
   "source": [
    "def get_details_user_prompt(\n",
    "    conference_name: str,\n",
    "    website: Website,\n",
    "    links: Dict[str, List[Dict[str, str]]]\n",
    "    ) -> str:\n",
    "    user_prompt = \"\"\n",
    "    user_prompt += \"You are looking at a conference webpage called \"\n",
    "    user_prompt += f\"'{conference_name}'! Here are the contents of its \"\n",
    "    user_prompt += \"landing page and other relevant pages. Use this \"\n",
    "    user_prompt += \"information to build a short brochure of the conference \"\n",
    "    user_prompt += \"in markdown.\\n\\n\"\n",
    "    user_prompt += website.get_contents()\n",
    "    for link in links[\"links\"]:\n",
    "        user_prompt += f\"\\n\\n{link[\"type\"]}\\n\"\n",
    "        user_prompt += Website(link[\"url\"]).get_contents()\n",
    "    return user_prompt[0:5000]  # Truncate if more than 5,000 characters"
   ]
  },
  {
   "cell_type": "code",
   "execution_count": null,
   "id": "f652350d",
   "metadata": {},
   "outputs": [],
   "source": [
    "second_call_user_prompt = get_details_user_prompt(\n",
    "    conference_name=CONFERENCE_NAME,\n",
    "    website=website,\n",
    "    links=llm_links\n",
    "    )"
   ]
  },
  {
   "cell_type": "markdown",
   "id": "efad3524",
   "metadata": {},
   "source": [
    "### 4.2. Call \"gpt-4o-mini\" to Create Brochure"
   ]
  },
  {
   "cell_type": "code",
   "execution_count": null,
   "id": "10b46302",
   "metadata": {},
   "outputs": [],
   "source": [
    "def llm_create_brochure(\n",
    "    api: OpenAI,\n",
    "    system_prompt: str,\n",
    "    user_prompt: str\n",
    "    ) -> None:\n",
    "    stream_response = api.chat.completions.create(\n",
    "        model=\"gpt-4o-mini\",\n",
    "        messages=[\n",
    "            {\"role\": \"system\", \"content\": system_prompt},\n",
    "            {\"role\": \"user\", \"content\": user_prompt}\n",
    "        ],\n",
    "        stream=True\n",
    "        )\n",
    "    response = \"\"\n",
    "    \n",
    "    # Create and initialize an interactive display output\n",
    "    display_handle = display(\n",
    "        Markdown(\"\"),\n",
    "        display_id=True\n",
    "        )\n",
    "    \n",
    "    for chunk in stream_response:\n",
    "        response += chunk.choices[0].delta.content or \"\"\n",
    "        response = response.replace(\"```\", \"\").replace(\"markdown\", \"\")\n",
    "        update_display(\n",
    "            obj=Markdown(response),\n",
    "            display_id=display_handle.display_id\n",
    "            )\n",
    "    return response"
   ]
  },
  {
   "cell_type": "code",
   "execution_count": null,
   "id": "3c2b280b",
   "metadata": {},
   "outputs": [],
   "source": [
    "brochure_text = llm_create_brochure(\n",
    "    api=api,\n",
    "    system_prompt=second_call_system_prompt,\n",
    "    user_prompt=second_call_user_prompt\n",
    "    )"
   ]
  },
  {
   "cell_type": "markdown",
   "id": "bedecbb3",
   "metadata": {},
   "source": [
    "## 5. Third Call to \"gpt-4o-mini\": Translate Entire Brochure to French"
   ]
  },
  {
   "cell_type": "markdown",
   "id": "0b1fcb88",
   "metadata": {},
   "source": [
    "### 5.1. Create Prompts for Third Call"
   ]
  },
  {
   "cell_type": "code",
   "execution_count": null,
   "id": "3f8c724b",
   "metadata": {},
   "outputs": [],
   "source": [
    "third_call_system_prompt = \"\"\"You are an assistant that analyzes the contents \\\n",
    "of a conference brochure and translates the brochure to French language while \\\n",
    "maintaining a formal tone suitable for academia. Respond in markdown.\"\"\""
   ]
  },
  {
   "cell_type": "code",
   "execution_count": null,
   "id": "d40f190e",
   "metadata": {},
   "outputs": [],
   "source": [
    "def get_text_user_prompt(text: str) -> str:\n",
    "    user_prompt = \"\"\n",
    "    user_prompt += \"The text below contains the contents of a conference \"\n",
    "    user_prompt += \"brochure which you are required to translate to French \"\n",
    "    user_prompt += \"language while maintaining a formal tone suitable for \"\n",
    "    user_prompt += \"academia. Please provide answer in markdown. The brochure \"\n",
    "    user_prompt += f\"text is as follows:\\n\\n{text}\"\n",
    "    return user_prompt"
   ]
  },
  {
   "cell_type": "code",
   "execution_count": null,
   "id": "dd35f457",
   "metadata": {},
   "outputs": [],
   "source": [
    "third_call_user_prompt = get_text_user_prompt(text=brochure_text)"
   ]
  },
  {
   "cell_type": "markdown",
   "id": "fd6ae067",
   "metadata": {},
   "source": [
    "#### 5.2. Call \"gpt-4o-mini\" to Translate Brochure to French"
   ]
  },
  {
   "cell_type": "code",
   "execution_count": null,
   "id": "9e8aaffb",
   "metadata": {},
   "outputs": [],
   "source": [
    "def llm_translate(\n",
    "    api: OpenAI,\n",
    "    system_prompt: str,\n",
    "    user_prompt: str\n",
    "    ) -> None:\n",
    "    stream_response = api.chat.completions.create(\n",
    "        model=\"gpt-4o-mini\",\n",
    "        messages=[\n",
    "            {\"role\": \"system\", \"content\": system_prompt},\n",
    "            {\"role\": \"user\", \"content\": user_prompt}\n",
    "        ],\n",
    "        stream=True\n",
    "        )\n",
    "    response = \"\"\n",
    "    \n",
    "    # Create and initialize an interactive display output\n",
    "    display_handle = display(\n",
    "        Markdown(\"\"),\n",
    "        display_id=True\n",
    "        )\n",
    "    \n",
    "    for chunk in stream_response:\n",
    "        response += chunk.choices[0].delta.content or \"\"\n",
    "        response = response.replace(\"```\", \"\").replace(\"markdown\", \"\")\n",
    "        update_display(\n",
    "            obj=Markdown(response),\n",
    "            display_id=display_handle.display_id\n",
    "            )\n",
    "\n",
    "    with open(file=\"w01_d05_conference_brochure_fr_output.txt\", mode=\"w\", encoding=\"utf-8\") as f:\n",
    "        f.write(response)"
   ]
  },
  {
   "cell_type": "code",
   "execution_count": null,
   "id": "4a79f68a",
   "metadata": {},
   "outputs": [],
   "source": [
    "llm_translate(\n",
    "    api=api,\n",
    "    system_prompt=third_call_system_prompt,\n",
    "    user_prompt=third_call_user_prompt\n",
    "    )"
   ]
  },
  {
   "cell_type": "markdown",
   "id": "77067aa4",
   "metadata": {},
   "source": [
    "## 6. Final Output"
   ]
  },
  {
   "cell_type": "markdown",
   "id": "6edf110b",
   "metadata": {},
   "source": [
    "# Conférence Canadienne en Génie Électrique et Informatique 2025 (CCECE 2025)\n",
    "\n",
    "**Dates de la Conférence :**  \n",
    "**26 - 29 Mai 2025**  \n",
    "**Lieu :**  \n",
    "Université de la Colombie-Britannique, Vancouver, Canada  \n",
    "\n",
    "---\n",
    "\n",
    "## Présentation de la Conférence\n",
    "\n",
    "La Conférence Canadienne de l'IEEE en Génie Électrique et Informatique (CCECE 2025) constitue un rassemblement de premier plan pour les professionnels du secteur académique, de l'industrie et du gouvernement du monde entier afin de se réunir et d'échanger des idées sur les dernières avancées dans le domaine du génie électrique et informatique. Le thème de cette année, **« Par Terre, Mer et Air »**, met l'accent sur les technologies et solutions innovantes dans les systèmes marins et terrestres, avec une attention particulière sur :\n",
    "\n",
    "- Capteurs Avancés\n",
    "- Systèmes Autonomes\n",
    "- Défis Environnementaux\n",
    "- Transport Intelligent\n",
    "- Transport Vert\n",
    "\n",
    "---\n",
    "\n",
    "## Appel à Contributions\n",
    "\n",
    "### Soumettez Votre Travail\n",
    "\n",
    "Les chercheurs sont invités à soumettre des articles sur divers sujets pertinents au génie électrique et informatique. Les détails clés de la soumission sont les suivants :\n",
    "\n",
    "- **Format de l'Article :** 4-5 pages en format IEEE à 2 colonnes\n",
    "- **Date Limite de Soumission des Articles :** 20 Janvier 2025\n",
    "- **Notification d'Acceptation :** 3 Mars 2025\n",
    "- **Soumission de l'Article Final :** 28 Mars 2025\n",
    "\n",
    "D'autres opportunités incluent :\n",
    "\n",
    "- **Propositions de Sessions Focalisées/Convocation :**  \n",
    "  - Date Limite de Soumission : 6 Janvier 2025  \n",
    "  - Notification d'Acceptation : 1 Février 2025  \n",
    "\n",
    "- **Propositions de Tutoriels et Ateliers :**  \n",
    "  - Date Limite de Soumission : 6 Janvier 2025  \n",
    "  - Notification d'Acceptation : 1 Février 2025  \n",
    "\n",
    "### Soumission des Résumés de Posters\n",
    "\n",
    "- **Date Limite de Soumission :** 10 Mars 2025  \n",
    "- **Soumission Finale du Résumé :** 28 Mars 2025  \n",
    "\n",
    "---\n",
    "\n",
    "## Informations sur l'Inscription\n",
    "\n",
    "- **Date Limite d'Inscription Anticipée :** 28 Mars 2025  \n",
    "- **Date Limite d'Inscription Régulière :** 21 Avril 2025  \n",
    "\n",
    "---\n",
    "\n",
    "## Opportunités de Participation\n",
    "\n",
    "### Journées Thématiques Industrie\n",
    "\n",
    "Ces journées spécialisées offriront des opportunités de développement professionnel à travers :\n",
    "\n",
    "- Intervenants Pléniers\n",
    "- Sessions de Panel\n",
    "- Formations Pratiques\n",
    "\n",
    "Une inscription flexible d'un jour sera disponible pour les professionnels de l'industrie.\n",
    "\n",
    "### Tutoriels et Ateliers\n",
    "\n",
    "Une gamme de tutoriels et d'ateliers se déroulera le premier jour de la conférence, **26 Mai 2025.**\n",
    "\n",
    "### Exposition et Parrainage\n",
    "\n",
    "Les entreprises cherchant à promouvoir leurs produits et services peuvent participer à l'exposition de la conférence. Pour toute demande concernant les opportunités d'exposition et de parrainage, veuillez contacter :\n",
    "\n",
    "**Email :** ccece2025@ieee.ca\n",
    "\n",
    "---\n",
    "\n",
    "## Sujets d'Intérêt\n",
    "\n",
    "La conférence couvrira un large éventail de sujets liés au génie électrique et informatique, y compris, mais sans s'y limiter :\n",
    "\n",
    "- Communications, Réseautage et Traitement du Signal\n",
    "- Apprentissage Automatique, Analyse de Données et Intelligence Artificielle\n",
    "- Contrôle, Robotique et Systèmes Autonomes\n",
    "- Transport Propre et Intelligent\n",
    "- Éducation en Ingénierie\n",
    "\n",
    "---\n",
    "\n",
    "Rejoignez-nous pour faire avancer les frontières du génie électrique et informatique tout en vous connectant avec des experts de premier plan dans le domaine. Nous nous réjouissons de votre participation à CCECE 2025 !\n",
    "\n",
    "Pour plus d'informations, visitez le [Site Web de CCECE 2025](#)."
   ]
  }
 ],
 "metadata": {
  "kernelspec": {
   "display_name": "ml-venv",
   "language": "python",
   "name": "python3"
  },
  "language_info": {
   "codemirror_mode": {
    "name": "ipython",
    "version": 3
   },
   "file_extension": ".py",
   "mimetype": "text/x-python",
   "name": "python",
   "nbconvert_exporter": "python",
   "pygments_lexer": "ipython3",
   "version": "3.12.9"
  }
 },
 "nbformat": 4,
 "nbformat_minor": 5
}
