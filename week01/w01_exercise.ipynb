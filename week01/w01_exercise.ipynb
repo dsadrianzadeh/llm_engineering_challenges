{
 "cells": [
  {
   "cell_type": "markdown",
   "id": "fe12c203-e6a6-452c-a655-afb8a03a4ff5",
   "metadata": {},
   "source": [
    "# End of Week 1 - Exercise"
   ]
  },
  {
   "cell_type": "markdown",
   "id": "3f34654b",
   "metadata": {},
   "source": [
    "This is an implementation of a technical tutor that uses GPT-4o-mini and Ollama to answer Python-related questions."
   ]
  },
  {
   "cell_type": "markdown",
   "id": "5db0e9ae",
   "metadata": {},
   "source": [
    "## 0. Import Libraries"
   ]
  },
  {
   "cell_type": "code",
   "execution_count": null,
   "id": "c1070317-3ed9-4659-abe3-828943230e03",
   "metadata": {},
   "outputs": [],
   "source": [
    "import ollama\n",
    "import os\n",
    "import requests\n",
    "\n",
    "from dotenv import load_dotenv\n",
    "from IPython.display import Markdown, display, update_display\n",
    "from openai import OpenAI"
   ]
  },
  {
   "cell_type": "markdown",
   "id": "1cd51d3c",
   "metadata": {},
   "source": [
    "## 1. Load Environment Variables"
   ]
  },
  {
   "cell_type": "code",
   "execution_count": null,
   "id": "4a456906-915a-4bfd-bb9d-57e505c5093f",
   "metadata": {},
   "outputs": [],
   "source": [
    "llama_methods = [\"local-call\", \"python-package\", \"openai-python-library\"]\n",
    "load_dotenv(override=True)\n",
    "api_key = os.getenv(\"OPENAI_API_KEY\")\n",
    "\n",
    "if not api_key:\n",
    "    print(\"No API key was found!\")\n",
    "elif not api_key.startswith(\"sk-proj-\"):\n",
    "    print(\n",
    "        \"An API key was found, but it does not start with 'sk-proj-'! \" + \\\n",
    "        \"Please ensure you are using the right key.\"\n",
    "        )\n",
    "elif api_key.strip() != api_key:\n",
    "    print(\n",
    "        \"An API key was found, but it looks like it might have space \" + \\\n",
    "        \"or tab characters at the start or end! Please remove them.\"\n",
    "        )\n",
    "else:\n",
    "    print(\"API key found and looks good so far!\")"
   ]
  },
  {
   "cell_type": "markdown",
   "id": "f686e9b0",
   "metadata": {},
   "source": [
    "## 2. Get Question"
   ]
  },
  {
   "cell_type": "markdown",
   "id": "d85eaee2",
   "metadata": {},
   "source": [
    "*Sample Question:*\n",
    "\n",
    "Please explain each line in the following code:\n",
    "```py\n",
    "import pandas\n",
    "from sklearn import linear_model\n",
    "\n",
    "df = pandas.read_csv(\"data.csv\")\n",
    "\n",
    "X = df[['Weight', 'Volume']]\n",
    "y = df['CO2']\n",
    "\n",
    "regr = linear_model.LinearRegression()\n",
    "regr.fit(X, y)\n",
    "\n",
    "print(regr.coef_)\n",
    "```"
   ]
  },
  {
   "cell_type": "code",
   "execution_count": null,
   "id": "3f0d0137-52b0-47a8-81a8-11a90a010798",
   "metadata": {},
   "outputs": [],
   "source": [
    "question = input(\"Please write your Python-related question down below:\\n\")"
   ]
  },
  {
   "cell_type": "markdown",
   "id": "75a7091c",
   "metadata": {},
   "source": [
    "## 3. Create Prompts"
   ]
  },
  {
   "cell_type": "code",
   "execution_count": null,
   "id": "c97b7d14",
   "metadata": {},
   "outputs": [],
   "source": [
    "system_prompt = \"\"\"You are a technical tutor and an expert in Python code \\\n",
    "implementation, machine learning, natural language processing, and large \\\n",
    "language models. Your expertise also includes explaining these topics in the \\\n",
    "best way possible. Your response must be in markdown.\"\"\"\n",
    "\n",
    "user_prompt = \"Please comprehensively answer the question below in markdown.\"\n",
    "user_prompt += \"\\n\\n\" + question"
   ]
  },
  {
   "cell_type": "markdown",
   "id": "f2a46f14",
   "metadata": {},
   "source": [
    "## 4. Call LLMs"
   ]
  },
  {
   "cell_type": "markdown",
   "id": "0338754b",
   "metadata": {},
   "source": [
    "### 4.1. Call \"gpt-4o-mini\""
   ]
  },
  {
   "cell_type": "code",
   "execution_count": null,
   "id": "60ce7000-a4a5-4cce-a261-e75ef45063b4",
   "metadata": {},
   "outputs": [],
   "source": [
    "def gpt_respond(\n",
    "    system_prompt: str,\n",
    "    user_prompt: str\n",
    "    ) -> None:\n",
    "    api = OpenAI()\n",
    "    stream_response = api.chat.completions.create(\n",
    "        model=\"gpt-4o-mini\",\n",
    "        messages=[\n",
    "            {\"role\": \"system\", \"content\": system_prompt},\n",
    "            {\"role\": \"user\", \"content\": user_prompt}\n",
    "        ],\n",
    "        stream=True\n",
    "        )\n",
    "    response = \"\"\n",
    "    \n",
    "    # Create and initialize an interactive display output\n",
    "    display_handle = display(\n",
    "        Markdown(\"\"),\n",
    "        display_id=True\n",
    "        )\n",
    "    \n",
    "    for chunk in stream_response:\n",
    "        response += chunk.choices[0].delta.content or \"\"\n",
    "        response = response.replace(\"```\", \"\").replace(\"markdown\", \"\")\n",
    "        update_display(\n",
    "            obj=Markdown(response),\n",
    "            display_id=display_handle.display_id\n",
    "            )\n",
    "\n",
    "    with open(file=\"w01_exercise_output.txt\", mode=\"w\", encoding=\"utf-8\") as f:\n",
    "        f.write(response)"
   ]
  },
  {
   "cell_type": "code",
   "execution_count": null,
   "id": "8f34839b",
   "metadata": {},
   "outputs": [],
   "source": [
    "gpt_respond(\n",
    "    system_prompt=system_prompt,\n",
    "    user_prompt=user_prompt\n",
    "    )"
   ]
  },
  {
   "cell_type": "markdown",
   "id": "ea9533f4",
   "metadata": {},
   "source": [
    "### 4.2. Call \"llama3.2\""
   ]
  },
  {
   "cell_type": "code",
   "execution_count": null,
   "id": "8f7c8ea8-4082-4ad0-8751-3301adcf6538",
   "metadata": {},
   "outputs": [],
   "source": [
    "def ollama_respond(\n",
    "    method: str,\n",
    "    system_prompt: str,\n",
    "    user_prompt: str\n",
    "    ) -> None:\n",
    "    messages = [\n",
    "        {\"role\": \"system\", \"content\": system_prompt},\n",
    "        {\"role\": \"user\", \"content\": user_prompt}\n",
    "        ]\n",
    "\n",
    "    if method == \"local-call\":\n",
    "        response = requests.post(\n",
    "            url=\"http://localhost:11434/api/chat\",\n",
    "            json={\n",
    "                \"model\": \"llama3.2\",\n",
    "                \"messages\": messages,\n",
    "                \"stream\": False\n",
    "                },\n",
    "            headers={\"Content-Type\": \"application/json\"}\n",
    "            )\n",
    "        display(Markdown(response.json()[\"message\"][\"content\"]))\n",
    "        with open(file=\"w01_exercise_output.txt\", mode=\"w\", encoding=\"utf-8\") as f:\n",
    "            f.write(response.json()[\"message\"][\"content\"])\n",
    "    elif method == \"python-package\":\n",
    "        response = ollama.chat(\n",
    "            model=\"llama3.2\",\n",
    "            messages=messages\n",
    "            )\n",
    "        display(Markdown(response[\"message\"][\"content\"]))\n",
    "        with open(file=\"w01_exercise_output.txt\", mode=\"w\", encoding=\"utf-8\") as f:\n",
    "            f.write(response[\"message\"][\"content\"])\n",
    "    elif method == \"openai-python-library\":\n",
    "        api = OpenAI(\n",
    "            base_url=\"http://localhost:11434/v1\",\n",
    "            api_key=\"ollama\"\n",
    "            )\n",
    "        response = api.chat.completions.create(\n",
    "            model=\"llama3.2\",\n",
    "            messages=messages\n",
    "            )\n",
    "        display(Markdown(response.choices[0].message.content))\n",
    "        with open(file=\"w01_exercise_output.txt\", mode=\"w\", encoding=\"utf-8\") as f:\n",
    "            f.write(response.choices[0].message.content)"
   ]
  },
  {
   "cell_type": "code",
   "execution_count": null,
   "id": "376128d8",
   "metadata": {},
   "outputs": [],
   "source": [
    "ollama_respond(\n",
    "    method=llama_methods[2],\n",
    "    system_prompt=system_prompt,\n",
    "    user_prompt=user_prompt\n",
    "    )"
   ]
  },
  {
   "cell_type": "markdown",
   "id": "a3e258fa",
   "metadata": {},
   "source": [
    "## 5. Final Outputs"
   ]
  },
  {
   "cell_type": "markdown",
   "id": "686ceba3",
   "metadata": {},
   "source": [
    "### 5.1. \"gpt-4o-mini\""
   ]
  },
  {
   "cell_type": "markdown",
   "id": "830e8d0a",
   "metadata": {},
   "source": [
    "Certainly! Below is a line-by-line explanation of the provided Python code, formatted in Markdown for clarity.\n",
    "\n",
    "python\n",
    "import pandas\n",
    "from sklearn import linear_model\n",
    "\n",
    "### Explanation:\n",
    "- **`import pandas`**: This line imports the Pandas library, which is a powerful data manipulation and analysis tool for Python. It is primarily used for working with structured data in the form of DataFrames, which are two-dimensional labeled data structures.\n",
    "  \n",
    "- **`from sklearn import linear_model`**: This line imports the `linear_model` module from the `sklearn` (Scikit-learn) library. Scikit-learn is a popular machine learning library in Python that provides simple and efficient tools for data mining and data analysis. The `linear_model` module contains classes and functions that implement various linear regression techniques.\n",
    "\n",
    "python\n",
    "df = pandas.read_csv(\"data.csv\")\n",
    "\n",
    "### Explanation:\n",
    "- **`df = pandas.read_csv(\"data.csv\")`**: This line reads a CSV (Comma-Separated Values) file named `data.csv` into a Pandas DataFrame. The `read_csv` function converts the contents of the CSV file into a DataFrame object, which is stored in the variable `df`. Each column in the CSV file becomes a column in the DataFrame, and the data is organized in a tabular format.\n",
    "\n",
    "python\n",
    "X = df[['Weight', 'Volume']]\n",
    "\n",
    "### Explanation:\n",
    "- **`X = df[['Weight', 'Volume']]`**: This line creates a new DataFrame `X` by selecting two columns—`Weight` and `Volume`—from the original DataFrame `df`. In the context of machine learning, `X` is typically used to represent the feature variables (or input variables) that will be used to predict a target variable.\n",
    "\n",
    "python\n",
    "y = df['CO2']\n",
    "\n",
    "### Explanation:\n",
    "- **`y = df['CO2']`**: This line extracts the `CO2` column from the DataFrame `df` and assigns it to the variable `y`. In machine learning, `y` usually represents the target variable (or output variable) that you want to predict based on the features in `X`.\n",
    "\n",
    "python\n",
    "regr = linear_model.LinearRegression()\n",
    "\n",
    "### Explanation:\n",
    "- **`regr = linear_model.LinearRegression()`**: This line creates an instance of the `LinearRegression` class from the `linear_model` module. This instance is assigned to the variable `regr`. The `LinearRegression` class implements ordinary least squares linear regression, which is used to model the relationship between the features in `X` and the target variable `y`.\n",
    "\n",
    "python\n",
    "regr.fit(X, y)\n",
    "\n",
    "### Explanation:\n",
    "- **`regr.fit(X, y)`**: This line fits the linear regression model to the data. The `fit` method takes the feature variables `X` and the target variable `y` as inputs and computes the optimal parameters (coefficients) for the linear regression model based on the provided data. After this line is executed, the model will be trained and ready to make predictions.\n",
    "\n",
    "python\n",
    "print(regr.coef_)\n",
    "\n",
    "### Explanation:\n",
    "- **`print(regr.coef_)`**: This line outputs the coefficients of the linear regression model to the console. The `coef_` attribute contains the slope coefficients for each feature that was included in the model. These coefficients indicate how much the target variable (`y`, in this case, `CO2`) is expected to change with a one-unit change in the corresponding feature (either `Weight` or `Volume`).\n",
    "\n",
    "### Summary:\n",
    "This code demonstrates a simple machine learning workflow using linear regression. It involves importing necessary libraries, loading data, preparing feature and target variables, training a linear regression model, and retrieving the model coefficients."
   ]
  },
  {
   "cell_type": "markdown",
   "id": "5e5c6e89",
   "metadata": {},
   "source": [
    "### 5.2. \"llama3.2\" via Local Call"
   ]
  },
  {
   "cell_type": "markdown",
   "id": "96c3b99a",
   "metadata": {},
   "source": [
    "**Linear Regression in Python using Scikit-Learn**\n",
    "=====================================================\n",
    "\n",
    "This code snippet demonstrates a simple linear regression model built using the popular Scikit-Learn library in Python. We'll break down each line of the code to understand its purpose.\n",
    "\n",
    "### Importing Necessary Libraries\n",
    "```python\n",
    "import pandas from sklearn import linear_model\n",
    "```\n",
    "*   **Importing `pandas`**: The first line imports the Pandas library, which is a powerful data manipulation and analysis tool in Python. In this context, we're using it to read and manipulate our dataset.\n",
    "*   **Importing `linear_model` from Scikit-Learn**: The second line imports the linear regression module (`linear_model`) from the Scikit-Learn library, which provides an efficient way to implement linear regression models.\n",
    "\n",
    "### Loading Data\n",
    "```python\n",
    "df = pandas.read_csv(\"data.csv\")\n",
    "```\n",
    "*   This line loads a dataset from a CSV file named \"data.csv\" into a Pandas DataFrame object called `df`.\n",
    "\n",
    "### Selecting Features and Target Variable\n",
    "```python\n",
    "X = df[['Weight', 'Volume']]\n",
    "y = df['CO2']\n",
    "```\n",
    "*   Here, we're selecting two features (`Weight` and `Volume`) to use in our linear regression model, assigning them to the variable `X`. We also identify the target variable (`CO2`) that we want to predict based on the input features, assigning it to the variable `y`.\n",
    "\n",
    "### Initializing Linear Regression Model\n",
    "```python\n",
    "regr = linear_model.LinearRegression()\n",
    "```\n",
    "*   This line creates an instance of the linear regression model using the `LinearRegression` class from Scikit-Learn's `linear_model` module. The resulting object is assigned to the variable `regr`.\n",
    "\n",
    "### Training the Model\n",
    "```python\n",
    "regr.fit(X, y)\n",
    "```\n",
    "*   This line trains the linear regression model on our dataset (`X`) and target variable (`y`). The `fit()` method takes in the feature matrix (`X`) and the target vector (`y`), adjusting the model's parameters to minimize the error between predicted and actual values.\n",
    "\n",
    "### Printing Coefficients\n",
    "```python\n",
    "print(regr.coef_)\n",
    "```\n",
    "*   Finally, this line prints the coefficients of the linear regression model. These coefficients represent the change in the target variable for a unit change in each input feature. For example, if the coefficient of `Weight` is 0.5 and `Volume` is -0.2, it means that for every additional unit of weight, we expect the CO2 level to increase by 0.5 units, while for every additional unit of volume, we expect it to decrease by 0.2 units.\n",
    "\n",
    "**Example Use Case:**\n",
    "--------------------\n",
    "\n",
    "This code can be used as a starting point for building linear regression models in various fields such as economics, marketing, or climate science. By modifying the dataset and feature selection, you can apply this model to different problems where linear relationships between variables are expected."
   ]
  },
  {
   "cell_type": "markdown",
   "id": "e7af6ef4",
   "metadata": {},
   "source": [
    "### 5.3. \"llama3.2\" via `ollama` Python Package"
   ]
  },
  {
   "cell_type": "markdown",
   "id": "64347708",
   "metadata": {},
   "source": [
    "**Line-by-Line Explanation of the Code**\n",
    "======================================\n",
    "\n",
    "### Importing Libraries\n",
    "```py\n",
    "import pandas from sklearn import linear_model\n",
    "```\n",
    "*   **Import Statement**: This line is not a valid Python syntax. The correct way to write this line would be:\n",
    "    ```\n",
    "import pandas as pd\n",
    "from sklearn.linear_model import LinearRegression\n",
    "```\n",
    "\n",
    "    *   `import pandas as pd`: This imports the pandas library and assigns it a shorter alias of `pd` for convenience.\n",
    "    *   `from sklearn.linear_model import LinearRegression`: This imports the `LinearRegression` class from the `sklearn.linear_model` module, which is part of the scikit-learn library.\n",
    "\n",
    "### Loading Data\n",
    "```py\n",
    "df = pandas.read_csv(\"data.csv\")\n",
    "```\n",
    "*   **Loading Data**: This line uses the pandas library to load a CSV file named \"data.csv\" into a DataFrame object called `df`.\n",
    "\n",
    "    *   `pandas.read_csv()`: This function reads the CSV file and returns a DataFrame.\n",
    "    *   `\"data.csv\"`: This is the path to the CSV file that we want to load.\n",
    "\n",
    "### Data Preparation\n",
    "```py\n",
    "X = df[['Weight', 'Volume']]\n",
    "y = df['CO2']\n",
    "```\n",
    "*   **Data Preparation**: These lines prepare the data for linear regression by selecting specific columns.\n",
    "\n",
    "    *   `X = df[['Weight', 'Volume']]`: This line selects two columns from the DataFrame and assigns them to a new variable called `X`. These columns will be used as input features in the linear regression model.\n",
    "    *   `y = df['CO2']`: This line selects one column from the DataFrame and assigns it to a new variable called `y`. This column will be used as the target variable in the linear regression model.\n",
    "\n",
    "### Creating and Fitting Model\n",
    "```py\n",
    "regr = linear_model.LinearRegression()\n",
    "regr.fit(X, y)\n",
    "```\n",
    "*   **Creating Model**: This line creates an instance of the `LinearRegression` class, which is a simple linear regression model.\n",
    "\n",
    "    *   `linear_model.LinearRegression()`: This is the constructor for the `LinearRegression` class.\n",
    "*   **Fitting Model**: This line fits the linear regression model to the data using the training data.\n",
    "\n",
    "    *   `regr.fit(X, y)`: This method takes the input features (`X`) and target variable (`y`) as arguments and trains the model.\n",
    "\n",
    "### Printing Coefficients\n",
    "```py\n",
    "print(regr.coef_)\n",
    "```\n",
    "*   **Printing Coefficients**: This line prints the coefficients of the linear regression model.\n",
    "\n",
    "    *   `regr.coef_`: This attribute returns the coefficients of the linear regression model. The coefficients represent the change in the target variable for a one-unit change in the input feature, while keeping all other features constant."
   ]
  },
  {
   "cell_type": "markdown",
   "id": "23b94ce0",
   "metadata": {},
   "source": [
    "### 5.4. \"llama3.2\" via `OpenAI` Python Library"
   ]
  },
  {
   "cell_type": "markdown",
   "id": "a9bb5183",
   "metadata": {},
   "source": [
    "**Linear Regression Code Explanation**\n",
    "=====================================\n",
    "\n",
    "### Importing Necessary Libraries\n",
    "\n",
    "```python\n",
    "import pandas from sklearn import linear_model\n",
    "```\n",
    "\n",
    "*   `import pandas` should be corrected to `from sklearn.model_selection import train_test_split`. However, we will explain the rest of the code.\n",
    "*   We are using two external libraries in this script:\n",
    "    *   `sklearn`: We'll use it for building a simple linear regression model. Specifically, it has modules for different algorithms like Linear Regression, Logistic Regression, Decision Trees, Neural Networks, etc.\n",
    "        +   However to build a \"LinearRegression()\" we import only  `linear_model`.\n",
    "*   The corrected line would be: \n",
    "    ```\n",
    "from sklearn import linear_model\n",
    "```\n",
    "\n",
    "### Reading Data\n",
    "\n",
    "```python\n",
    "df = pandas.read_csv(\"data.csv\")\n",
    "```\n",
    "\n",
    "This section is reading data from a CSV file named 'data.csv'. We're using the pandas library to read this file into our Python script.\n",
    "\n",
    "*   The `read_csv()` function in pandas reads an excel or csv file. Then prints out header names of that dataframe.\n",
    "    To use it properly, one must ensure that your python environment can locate the data.csv file. One way is by giving full path while importing like so:\n",
    "    ```\n",
    "df = pandas.read_csv(\"/path/to/data.csv\")\n",
    "```\n",
    "\n",
    "### Data Preparations\n",
    "\n",
    "```python\n",
    "X = df[['Weight', 'Volume']]\n",
    "y = df['CO2']\n",
    "```\n",
    "\n",
    "This section separates your dependent variable and independent variables.\n",
    "\n",
    "*   `X` represents the independent variables.\n",
    "*   The `X` dataset consists entirely of two features (in this instance).\n",
    "    They are \"Weight\" and \"Volume\"\n",
    "*   `y` represents the entire dataset as a single feature or \"target variable\"\n",
    "    In this case, y is CO2.\n",
    "\n",
    "### Creating Linear Regression Object\n",
    "\n",
    "```python\n",
    "regr = linear_model.LinearRegression()\n",
    "```\n",
    "\n",
    "This sets up our data for training our model. The `LinearRegression()` function takes in an arbitrary number of features but should take only two (one dependent and once independent variable). Using a simple equation, it tries to make prediction about \"y\" given any combination of the values for \"X\". \n",
    "\n",
    "### Training Model\n",
    "\n",
    "```python\n",
    "regr.fit(X, y)\n",
    "```\n",
    "\n",
    "This is where we train our model. \"fit()\" takes all previously defined features (\"X\") and training data (in this case labeled as \"df\" since they are tied to a DataFrame named that).\n",
    "\n",
    "### Getting Result\n",
    "\n",
    "```python\n",
    "print(regr.coef_)\n",
    "```\n",
    " The print statements above is called the output. In the code `regr.coef_`, 'coef' refers to coefficient.\n",
    "\n",
    "    Coefficient or the slope in linear regression model.\n",
    "    It estimates how extreme (or large) the relationship between variable \"X\", and variable y is.\n",
    "\n",
    "It is used while calculating Y according to formula :Y = aX + b\n",
    "   *a* is independent coefficient or simply coefficient .\n",
    "     *b* is dependent coefficient or constant value .\n",
    "\n",
    "For your problem , the result will look like:\n",
    " \n",
    "```\n",
    "[-0.0019, -1e-05]\n",
    "```"
   ]
  }
 ],
 "metadata": {
  "kernelspec": {
   "display_name": "ml-venv",
   "language": "python",
   "name": "python3"
  },
  "language_info": {
   "codemirror_mode": {
    "name": "ipython",
    "version": 3
   },
   "file_extension": ".py",
   "mimetype": "text/x-python",
   "name": "python",
   "nbconvert_exporter": "python",
   "pygments_lexer": "ipython3",
   "version": "3.12.9"
  }
 },
 "nbformat": 4,
 "nbformat_minor": 5
}
